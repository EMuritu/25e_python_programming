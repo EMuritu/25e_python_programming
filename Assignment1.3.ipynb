{
 "cells": [
  {
   "cell_type": "code",
   "execution_count": 26,
   "id": "6dde3744",
   "metadata": {},
   "outputs": [
    {
     "ename": "NameError",
     "evalue": "name 'attempts_allowed' is not defined",
     "output_type": "error",
     "traceback": [
      "\u001b[31m---------------------------------------------------------------------------\u001b[39m",
      "\u001b[31mNameError\u001b[39m                                 Traceback (most recent call last)",
      "\u001b[36mCell\u001b[39m\u001b[36m \u001b[39m\u001b[32mIn[26]\u001b[39m\u001b[32m, line 14\u001b[39m\n\u001b[32m     10\u001b[39m     \u001b[38;5;28mprint\u001b[39m(\u001b[33m\"\u001b[39m\u001b[33mThink of a number between 1 and 100.\u001b[39m\u001b[33m\"\u001b[39m)\n\u001b[32m     11\u001b[39m     \u001b[38;5;28mprint\u001b[39m(\u001b[33mf\u001b[39m\u001b[33m\"\u001b[39m\u001b[33mYou have \u001b[39m\u001b[38;5;132;01m{\u001b[39;00mattempts_allowed\u001b[38;5;132;01m}\u001b[39;00m\u001b[33m attempts to guess it.\u001b[39m\u001b[33m\"\u001b[39m)\n\u001b[32m---> \u001b[39m\u001b[32m14\u001b[39m \u001b[38;5;28;01mfor\u001b[39;00m attempt \u001b[38;5;129;01min\u001b[39;00m \u001b[38;5;28mrange\u001b[39m(\u001b[32m1\u001b[39m, \u001b[43mattempts_allowed\u001b[49m + \u001b[32m1\u001b[39m ):\n\u001b[32m     15\u001b[39m     guess = \u001b[38;5;28mint\u001b[39m(\u001b[38;5;28minput\u001b[39m(\u001b[33mf\u001b[39m\u001b[33m\"\u001b[39m\u001b[33mAttempt \u001b[39m\u001b[38;5;132;01m{\u001b[39;00mattempt\u001b[38;5;132;01m}\u001b[39;00m\u001b[33m: Enter your guess: \u001b[39m\u001b[33m\"\u001b[39m))\n\u001b[32m     17\u001b[39m     \u001b[38;5;28;01mif\u001b[39;00m guess < secret_number:\n",
      "\u001b[31mNameError\u001b[39m: name 'attempts_allowed' is not defined"
     ]
    }
   ],
   "source": [
    "import random\n",
    "\n",
    "#Generate a random number between 1 and 100\n",
    "def number_guessing_game():\n",
    "    secret_number = random.randint (1, 100)\n",
    "    attempts_allowed = 5\n",
    "\n",
    "\n",
    "    print(\"Let's begin the Number guessing game!\")\n",
    "    print(\"Think of a number between 1 and 100.\")\n",
    "    print(f\"You have {attempts_allowed} attempts to guess it.\")\n",
    "\n",
    "\n",
    "for attempt in range(1, attempts_allowed + 1 ):\n",
    "    guess = int(input(f\"Attempt {attempt}: Enter your guess: \"))\n",
    "\n",
    "    if guess < secret_number:\n",
    "        print(\"Lower\")\n",
    "    elif guess > secret_number:\n",
    "        print(\"Higher\")\n",
    "    else:\n",
    "        print(f\"congratulations! You have guessed the correct number in {attempt} attempt(s).\")\n",
    "        break\n",
    "\n",
    "else:\n",
    "    print(f\"Sorry, you've used all {attempts_allowed}.The number was {secret_number}.\")\n"
   ]
  },
  {
   "cell_type": "code",
   "execution_count": 5,
   "id": "72a127d7",
   "metadata": {},
   "outputs": [
    {
     "name": "stdout",
     "output_type": "stream",
     "text": [
      "Result of 37 / 28 is 1.3214285714285714\n"
     ]
    }
   ],
   "source": [
    "#calculator using simple calculations\n",
    "\n",
    "num1 = int(input(\"Enter first number: \"))\n",
    "num2 = int(input(\"Enter second number: \"))\n",
    "operator = input(\"Enter an operator(+,-,*,/):\")\n",
    "\n",
    "if operator ==  '+':\n",
    "    result= num1+num2\n",
    "    print(f\"Result: {num1} + {num2} = {result}\")\n",
    "elif operator == '-':\n",
    "    result=num1-num2\n",
    "    print(f\"Result: {num1} - {num2} = {result}\")\n",
    "elif operator == '*':\n",
    "    result=num1*num2\n",
    "    print(f\"Result: {num1} * {num2} = {result}\") \n",
    "elif operator == '/':\n",
    "    if num2 !=0:\n",
    "        result= num1/num2\n",
    "        print(f\"Result of {num1} / {num2} is {result}\")\n",
    "    else:\n",
    "        print(\"Error: Division by zero is not allowed\")\n",
    "else:\n",
    "    print(\"Invalid operator. Please use +, -, *, or /.\")\n",
    "    "
   ]
  },
  {
   "cell_type": "code",
   "execution_count": 14,
   "id": "9f93b68c",
   "metadata": {},
   "outputs": [
    {
     "name": "stdout",
     "output_type": "stream",
     "text": [
      "5 is a prime number\n"
     ]
    }
   ],
   "source": [
    "#Checking prime number using a while loop\n",
    "\n",
    "num = int(input(\"Enter a number to check if it is prime: \"))\n",
    "if num <= 1:\n",
    "    print(f\"{num} is not a prime number.\")\n",
    "else:\n",
    "    is_prime=True\n",
    "    i=2\n",
    "\n",
    "    while i < num:\n",
    "        if num % i == 0:\n",
    "            is_prime = False\n",
    "        break\n",
    "    if is_prime:\n",
    "        print(f\"{num} is a prime number\")\n",
    "    else:\n",
    "        print(f\"{num} is not a prime number\")"
   ]
  },
  {
   "cell_type": "code",
   "execution_count": 16,
   "id": "15c10a59",
   "metadata": {},
   "outputs": [
    {
     "name": "stdout",
     "output_type": "stream",
     "text": [
      "\n",
      "Multiplication table for 6 up to 9 multiples:\n",
      "\n",
      "6 * 1 = 6\n",
      "6 * 2 = 12\n",
      "6 * 3 = 18\n",
      "6 * 4 = 24\n",
      "6 * 5 = 30\n",
      "6 * 6 = 36\n",
      "6 * 7 = 42\n",
      "6 * 8 = 48\n",
      "6 * 9 = 54\n"
     ]
    }
   ],
   "source": [
    "#Multiplication table using a for loop\n",
    "\n",
    "number=int(input(\"Enter the number to generate its multiplication table: \"))\n",
    "limit=int(input(\"Enter how many multiples you want: \"))\n",
    "\n",
    "print(f\"\\nMultiplication table for {number} up to {limit} multiples:\\n\")\n",
    "\n",
    "for i in range(1, limit+1):\n",
    "    result= number * i\n",
    "    print(f\"{number} * {i} = {result}\")\n"
   ]
  },
  {
   "cell_type": "code",
   "execution_count": 20,
   "id": "f2576fed",
   "metadata": {},
   "outputs": [
    {
     "name": "stdout",
     "output_type": "stream",
     "text": [
      "The sum of numbers from 1 to 8 is 36.\n"
     ]
    }
   ],
   "source": [
    "# program to calculate the sum of numbers from 1 to a given number\n",
    "\n",
    "n=int(input(\"Enter a positive number: \"))\n",
    "total=0\n",
    "\n",
    "for i in range (1, n+1):\n",
    "    total += i\n",
    "\n",
    "print(f\"The sum of numbers from 1 to {n} is {total}.\")"
   ]
  },
  {
   "cell_type": "code",
   "execution_count": 21,
   "id": "09f04a2d",
   "metadata": {},
   "outputs": [
    {
     "name": "stdout",
     "output_type": "stream",
     "text": [
      "*\n",
      "**\n",
      "***\n",
      "****\n",
      "*****\n",
      "******\n",
      "*******\n"
     ]
    }
   ],
   "source": [
    "# program that uses a for loop to print a triangle pattern made of stars\n",
    "\n",
    "rows=7\n",
    "\n",
    "for i in range(1, rows +1 ):\n",
    "    print('*' * i)"
   ]
  }
 ],
 "metadata": {
  "kernelspec": {
   "display_name": "venv",
   "language": "python",
   "name": "python3"
  },
  "language_info": {
   "codemirror_mode": {
    "name": "ipython",
    "version": 3
   },
   "file_extension": ".py",
   "mimetype": "text/x-python",
   "name": "python",
   "nbconvert_exporter": "python",
   "pygments_lexer": "ipython3",
   "version": "3.13.3"
  }
 },
 "nbformat": 4,
 "nbformat_minor": 5
}
