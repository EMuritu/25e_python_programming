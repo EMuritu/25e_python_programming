{
 "cells": [
  {
   "cell_type": "code",
   "execution_count": null,
   "id": "4e9e3e69",
   "metadata": {},
   "outputs": [
    {
     "name": "stdout",
     "output_type": "stream",
     "text": [
      "Result 4: 1.2777777777777777\n"
     ]
    }
   ],
   "source": [
    "#simple calculator program\n",
    "\n",
    "#obtain input from the user for the first number\n",
    "\n",
    "num1= float(input(\"Enter the first number: \"))\n",
    "\n",
    "#obtain input from the user for the second number\n",
    "\n",
    "num2= float(input(\"Enter the second number: \"))\n",
    "\n",
    "#obtain arithmetic operation from the user\n",
    "\n",
    "operator=input(\"Enter an operator(+,-,*,/): \")\n",
    "\n",
    "#operation based on the user input\n",
    "\n",
    "if operator == '+' :\n",
    "    result= num1 + num2 #Addition\n",
    "    print(\"Result 1:\", result)\n",
    "elif operator == '-' :\n",
    "    result= num1 - num2 #Subtraction\n",
    "    print(\"Result 2:\", result)\n",
    "elif operator == '*' :\n",
    "    result= num1 * num2 #Multiplication\n",
    "    print(\"Result 3:\", result)\n",
    "elif operator == '/' :\n",
    "    if num2 != 0:\n",
    "        result= num1 / num2  #Division\n",
    "        print(\"Result 4:\", result)\n",
    "    else:\n",
    "        print(\"Error: Division by zero is not allowed\")\n",
    "else:\n",
    "    #handle invalid operator input\n",
    "    print(\"Error: Invalid operator. Please use +, -, *, or /.\")\n"
   ]
  },
  {
   "cell_type": "code",
   "execution_count": null,
   "id": "2e0d9622",
   "metadata": {},
   "outputs": [
    {
     "name": "stdout",
     "output_type": "stream",
     "text": [
      "Random_number between 1 and 100: 63\n"
     ]
    }
   ],
   "source": [
    "#A program that generates and prints a random number between 1 and 100 using the random library\n",
    "\n",
    "import random\n",
    "\n",
    "random_number = random.randint (1, 100)\n",
    "print(\"Random_number between 1 and 100:\", random_number)"
   ]
  },
  {
   "cell_type": "code",
   "execution_count": null,
   "id": "705232e9",
   "metadata": {},
   "outputs": [
    {
     "name": "stdout",
     "output_type": "stream",
     "text": [
      "8.0\n"
     ]
    }
   ],
   "source": [
    "#A program that calculates and prints the square root of a given number using the math.sqrt(0)\n",
    "\n",
    "import math\n",
    "\n",
    "final_result= math.sqrt(64)\n",
    "print(final_result)"
   ]
  },
  {
   "cell_type": "code",
   "execution_count": 3,
   "id": "f2b8b0ad",
   "metadata": {},
   "outputs": [
    {
     "name": "stdout",
     "output_type": "stream",
     "text": [
      "50.0\n"
     ]
    }
   ],
   "source": [
    "import math\n",
    "\n",
    "final_result= math.sqrt(2500)\n",
    "print(final_result)"
   ]
  },
  {
   "cell_type": "code",
   "execution_count": 4,
   "id": "e210da45",
   "metadata": {},
   "outputs": [
    {
     "name": "stdout",
     "output_type": "stream",
     "text": [
      "9.0\n"
     ]
    }
   ],
   "source": [
    "import math\n",
    "\n",
    "final_result= math.sqrt(81)\n",
    "print(final_result)"
   ]
  }
 ],
 "metadata": {
  "kernelspec": {
   "display_name": "venv",
   "language": "python",
   "name": "python3"
  },
  "language_info": {
   "codemirror_mode": {
    "name": "ipython",
    "version": 3
   },
   "file_extension": ".py",
   "mimetype": "text/x-python",
   "name": "python",
   "nbconvert_exporter": "python",
   "pygments_lexer": "ipython3",
   "version": "3.13.3"
  }
 },
 "nbformat": 4,
 "nbformat_minor": 5
}
