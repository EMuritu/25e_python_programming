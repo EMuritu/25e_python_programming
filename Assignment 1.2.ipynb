{
 "cells": [
  {
   "cell_type": "code",
   "execution_count": 1,
   "id": "2f72253a",
   "metadata": {},
   "outputs": [
    {
     "name": "stdout",
     "output_type": "stream",
     "text": [
      "Hello Esther\n"
     ]
    }
   ],
   "source": [
    "#Write a program that uses input to prompt a user for their name and welcome them\n",
    "\n",
    "name=input(\"Please input your username\")\n",
    "print(\"Hello\", name)"
   ]
  },
  {
   "cell_type": "code",
   "execution_count": 7,
   "id": "a0eefd05",
   "metadata": {},
   "outputs": [
    {
     "name": "stdout",
     "output_type": "stream",
     "text": [
      "96.25\n"
     ]
    }
   ],
   "source": [
    "#Write a program to prompt the user for hours and rate per hour to compute gross pay\n",
    "\n",
    "hours=int(input(\"Please input the number of hours\"))\n",
    "rate=float(input(\"Please input the rate per hour\"))\n",
    "\n",
    "gross_pay= hours*rate\n",
    "print(gross_pay)\n",
    "\n"
   ]
  },
  {
   "cell_type": "code",
   "execution_count": null,
   "id": "bd1ea41a",
   "metadata": {},
   "outputs": [
    {
     "name": "stdout",
     "output_type": "stream",
     "text": [
      "8\n",
      "<class 'int'>\n"
     ]
    }
   ],
   "source": [
    "#write the value of the expression and type of expression\n",
    "#width=17\n",
    "\n",
    "width=17\n",
    "zz=width//2   \n",
    "\n",
    "print(zz)\n",
    "print(type(zz))"
   ]
  },
  {
   "cell_type": "code",
   "execution_count": null,
   "id": "9f74723a",
   "metadata": {},
   "outputs": [
    {
     "name": "stdout",
     "output_type": "stream",
     "text": [
      "8.5\n",
      "<class 'float'>\n"
     ]
    }
   ],
   "source": [
    "#width=17\n",
    "width=17\n",
    "zz=width/2.0       \n",
    "\n",
    "print(zz)\n",
    "print(type(zz))"
   ]
  },
  {
   "cell_type": "code",
   "execution_count": null,
   "id": "f0728363",
   "metadata": {},
   "outputs": [
    {
     "name": "stdout",
     "output_type": "stream",
     "text": [
      "4.0\n",
      "<class 'float'>\n"
     ]
    }
   ],
   "source": [
    "#height=12.0\n",
    "height=12.0\n",
    "zz=height/3         \n",
    "\n",
    "print(zz)\n",
    "print(type(zz))"
   ]
  },
  {
   "cell_type": "code",
   "execution_count": 5,
   "id": "d8b3c75f",
   "metadata": {},
   "outputs": [
    {
     "name": "stdout",
     "output_type": "stream",
     "text": [
      "11\n",
      "<class 'int'>\n"
     ]
    }
   ],
   "source": [
    "x=1+2*5\n",
    "\n",
    "print(x)\n",
    "print(type(x))"
   ]
  },
  {
   "cell_type": "code",
   "execution_count": 1,
   "id": "463ee985",
   "metadata": {},
   "outputs": [
    {
     "data": {
      "text/plain": [
       "81.5"
      ]
     },
     "execution_count": 1,
     "metadata": {},
     "output_type": "execute_result"
    }
   ],
   "source": [
    "#Write a program that prompts the user for a celsius temperature, convert the temperature to Fahrenheit and print out the converted temperature.\n",
    "\n",
    "temperature=input(\"please input the temperature in degree celsius\")\n",
    "fahrenheit=(float(temperature)*9/5+32)\n",
    "fahrenheit\n"
   ]
  }
 ],
 "metadata": {
  "kernelspec": {
   "display_name": "venv",
   "language": "python",
   "name": "python3"
  },
  "language_info": {
   "codemirror_mode": {
    "name": "ipython",
    "version": 3
   },
   "file_extension": ".py",
   "mimetype": "text/x-python",
   "name": "python",
   "nbconvert_exporter": "python",
   "pygments_lexer": "ipython3",
   "version": "3.13.3"
  }
 },
 "nbformat": 4,
 "nbformat_minor": 5
}
