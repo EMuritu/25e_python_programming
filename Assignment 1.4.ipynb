{
 "cells": [
  {
   "cell_type": "code",
   "execution_count": 1,
   "id": "92879202",
   "metadata": {},
   "outputs": [
    {
     "name": "stdout",
     "output_type": "stream",
     "text": [
      "Positive\n",
      "Negative\n",
      "Zero\n"
     ]
    }
   ],
   "source": [
    "#A function that will determine whether a number is positive or negative\n",
    "\n",
    "def check_number_sign (number):\n",
    "\n",
    "    if number > 0:\n",
    "        return \"Positive\"\n",
    "    elif number < 0:\n",
    "        return \"Negative\"\n",
    "    else:\n",
    "        return \"Zero\"\n",
    "    \n",
    "print(check_number_sign(8))\n",
    "print(check_number_sign(-3))\n",
    "print(check_number_sign(0))\n"
   ]
  },
  {
   "cell_type": "code",
   "execution_count": null,
   "id": "065da369",
   "metadata": {},
   "outputs": [
    {
     "name": "stdout",
     "output_type": "stream",
     "text": [
      "25\n",
      "48\n",
      "50.26548245743669\n"
     ]
    }
   ],
   "source": [
    "#A function that will calculate the area of different shapes\n",
    "\n",
    "import math\n",
    "\n",
    "def area_of_square (side_length): \n",
    "    return side_length ** 2 #calculate the area of a square\n",
    "\n",
    "def area_of_rectangle (length, width):\n",
    "    return length * width #calculate the area of a rectangle\n",
    "\n",
    "def area_of_circle(radius):\n",
    "    return math.pi * radius **2 #calculate the area of a circle\n",
    "\n",
    "print(area_of_square(5))\n",
    "print(area_of_rectangle(6,8))\n",
    "print(area_of_circle(4))\n"
   ]
  },
  {
   "cell_type": "code",
   "execution_count": 3,
   "id": "16456825",
   "metadata": {},
   "outputs": [
    {
     "name": "stdout",
     "output_type": "stream",
     "text": [
      "A\n",
      "B\n",
      "C\n",
      "D\n",
      "F\n"
     ]
    }
   ],
   "source": [
    "#calculate grade function that scores as input and returns the corresponding letter grade\n",
    "\n",
    "def calculate_grade (score):\n",
    "    if not isinstance (score, (int,float)):\n",
    "        return \"Invalid input: score must be a number.\"\n",
    "\n",
    "    if score < 0 or score > 100:\n",
    "        return \"Invalid input: score must be between 0 and 100.\"\n",
    "    \n",
    "    if score >= 90:\n",
    "        return 'A'\n",
    "    elif score >= 80:\n",
    "        return 'B'\n",
    "    elif score >= 70:\n",
    "        return 'C'\n",
    "    elif score >= 60:\n",
    "        return 'D'\n",
    "    else:\n",
    "        return 'F'\n",
    "    \n",
    "\n",
    "print(calculate_grade(93))\n",
    "print(calculate_grade(86))\n",
    "print(calculate_grade(74))\n",
    "print(calculate_grade(65))\n",
    "print(calculate_grade(46))\n",
    "\n",
    "\n"
   ]
  }
 ],
 "metadata": {
  "kernelspec": {
   "display_name": "venv",
   "language": "python",
   "name": "python3"
  },
  "language_info": {
   "codemirror_mode": {
    "name": "ipython",
    "version": 3
   },
   "file_extension": ".py",
   "mimetype": "text/x-python",
   "name": "python",
   "nbconvert_exporter": "python",
   "pygments_lexer": "ipython3",
   "version": "3.13.3"
  }
 },
 "nbformat": 4,
 "nbformat_minor": 5
}
